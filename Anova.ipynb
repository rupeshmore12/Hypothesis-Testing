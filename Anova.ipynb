{
 "cells": [
  {
   "cell_type": "code",
   "execution_count": 1,
   "id": "1257444c-8e4d-4345-9e5a-f0eec084f882",
   "metadata": {},
   "outputs": [],
   "source": [
    "import numpy as np\n",
    "from scipy import stats"
   ]
  },
  {
   "cell_type": "code",
   "execution_count": 2,
   "id": "ed269271-37d0-4220-930b-30ce673180f2",
   "metadata": {},
   "outputs": [],
   "source": [
    "# Generate some sample data for three groups\n",
    "np.random.seed(42)\n",
    "group1 = np.random.normal(loc=5, scale=2, size=100)\n",
    "group2 = np.random.normal(loc=7, scale=2, size=100)\n",
    "group3 = np.random.normal(loc=6, scale=2, size=100)"
   ]
  },
  {
   "cell_type": "code",
   "execution_count": 3,
   "id": "d7897b7d-15fd-47ad-aebe-990b14c07f8e",
   "metadata": {},
   "outputs": [
    {
     "name": "stdout",
     "output_type": "stream",
     "text": [
      "F-statistic: 33.070550055827624\n",
      "P-value: 1.0792823996408125e-13\n"
     ]
    }
   ],
   "source": [
    "# Perform one-way ANOVA test\n",
    "f_stat, p_value = stats.f_oneway(group1, group2, group3)\n",
    "\n",
    "# Print the results\n",
    "print(\"F-statistic:\", f_stat)\n",
    "print(\"P-value:\", p_value)"
   ]
  },
  {
   "cell_type": "code",
   "execution_count": 4,
   "id": "a1714d4f-94dc-476e-8a40-7927bcf4adcb",
   "metadata": {},
   "outputs": [
    {
     "name": "stdout",
     "output_type": "stream",
     "text": [
      "Reject the null hypothesis that the means of all groups are equal\n"
     ]
    }
   ],
   "source": [
    "# Interpret the results\n",
    "alpha = 0.05\n",
    "if p_value < alpha:\n",
    "    print(\"Reject the null hypothesis that the means of all groups are equal\")\n",
    "else:\n",
    "    print(\"Fail to reject the null hypothesis that the means of all groups are equal\")"
   ]
  }
 ],
 "metadata": {
  "kernelspec": {
   "display_name": "Python 3 (ipykernel)",
   "language": "python",
   "name": "python3"
  },
  "language_info": {
   "codemirror_mode": {
    "name": "ipython",
    "version": 3
   },
   "file_extension": ".py",
   "mimetype": "text/x-python",
   "name": "python",
   "nbconvert_exporter": "python",
   "pygments_lexer": "ipython3",
   "version": "3.11.7"
  }
 },
 "nbformat": 4,
 "nbformat_minor": 5
}
