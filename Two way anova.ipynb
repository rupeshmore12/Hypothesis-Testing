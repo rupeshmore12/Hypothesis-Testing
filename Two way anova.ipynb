{
 "cells": [
  {
   "cell_type": "code",
   "execution_count": 1,
   "id": "1639afe1-ca78-4cb7-be28-dca5556b38ae",
   "metadata": {},
   "outputs": [],
   "source": [
    "import numpy as np\n",
    "import statsmodels.api as sm\n",
    "from statsmodels.formula.api import ols"
   ]
  },
  {
   "cell_type": "code",
   "execution_count": 2,
   "id": "62bcb163-5646-4f46-ba2a-8b35461b1552",
   "metadata": {},
   "outputs": [],
   "source": [
    "# Generate some sample data for three groups\n",
    "np.random.seed(42)\n",
    "group1 = np.random.normal(loc=5, scale=2, size=100)\n",
    "group2 = np.random.normal(loc=7, scale=2, size=100)\n",
    "group3 = np.random.normal(loc=6, scale=2, size=100)"
   ]
  },
  {
   "cell_type": "code",
   "execution_count": 3,
   "id": "a0a07fc9-c3e9-4233-90bd-86e7795f5809",
   "metadata": {},
   "outputs": [],
   "source": [
    "# Combine the data into a single DataFrame\n",
    "data = np.concatenate([group1, group2, group3])\n",
    "group_labels = ['Group1'] * 100 + ['Group2'] * 100 + ['Group3'] * 100"
   ]
  },
  {
   "cell_type": "code",
   "execution_count": 4,
   "id": "3eb69b9b-0c2e-41f0-8b79-8939d8ada842",
   "metadata": {},
   "outputs": [],
   "source": [
    "# Perform one-way ANOVA\n",
    "model = ols('data ~ C(group_labels)', data={'data': data, 'group_labels': group_labels}).fit()\n",
    "anova_table = sm.stats.anova_lm(model, typ=2)"
   ]
  },
  {
   "cell_type": "code",
   "execution_count": 5,
   "id": "8c929382-2320-4756-a4bf-cb706ee65452",
   "metadata": {},
   "outputs": [
    {
     "name": "stdout",
     "output_type": "stream",
     "text": [
      "                      sum_sq     df         F        PR(>F)\n",
      "C(group_labels)   256.620745    2.0  33.07055  1.079282e-13\n",
      "Residual         1152.329809  297.0       NaN           NaN\n"
     ]
    }
   ],
   "source": [
    "# Print the ANOVA table\n",
    "print(anova_table)"
   ]
  }
 ],
 "metadata": {
  "kernelspec": {
   "display_name": "Python 3 (ipykernel)",
   "language": "python",
   "name": "python3"
  },
  "language_info": {
   "codemirror_mode": {
    "name": "ipython",
    "version": 3
   },
   "file_extension": ".py",
   "mimetype": "text/x-python",
   "name": "python",
   "nbconvert_exporter": "python",
   "pygments_lexer": "ipython3",
   "version": "3.11.7"
  }
 },
 "nbformat": 4,
 "nbformat_minor": 5
}
