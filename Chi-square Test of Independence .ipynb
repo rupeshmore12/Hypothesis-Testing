{
 "cells": [
  {
   "cell_type": "code",
   "execution_count": 1,
   "id": "dd40296b-87c4-4790-a4f9-62b7f3f5aa12",
   "metadata": {},
   "outputs": [],
   "source": [
    "import numpy as np\n",
    "from scipy.stats import chi2_contingency"
   ]
  },
  {
   "cell_type": "code",
   "execution_count": 2,
   "id": "46071f07-e551-484d-8332-5fdcd2a8d30f",
   "metadata": {},
   "outputs": [],
   "source": [
    "# Create a contingency table\n",
    "table = np.array([[10, 20, 30], [15, 25, 35]])"
   ]
  },
  {
   "cell_type": "code",
   "execution_count": 3,
   "id": "eb3770d5-ff51-4ace-9bf9-e86b1b62ccef",
   "metadata": {},
   "outputs": [
    {
     "name": "stdout",
     "output_type": "stream",
     "text": [
      "Chi-square statistic: 0.27692307692307694\n",
      "P-value: 0.870696738961232\n"
     ]
    }
   ],
   "source": [
    "# Perform Chi-square test of independence\n",
    "chi2_stat, p_value, dof, expected = chi2_contingency(table)\n",
    "\n",
    "# Print the results\n",
    "print(\"Chi-square statistic:\", chi2_stat)\n",
    "print(\"P-value:\", p_value)"
   ]
  }
 ],
 "metadata": {
  "kernelspec": {
   "display_name": "Python 3 (ipykernel)",
   "language": "python",
   "name": "python3"
  },
  "language_info": {
   "codemirror_mode": {
    "name": "ipython",
    "version": 3
   },
   "file_extension": ".py",
   "mimetype": "text/x-python",
   "name": "python",
   "nbconvert_exporter": "python",
   "pygments_lexer": "ipython3",
   "version": "3.11.7"
  }
 },
 "nbformat": 4,
 "nbformat_minor": 5
}
