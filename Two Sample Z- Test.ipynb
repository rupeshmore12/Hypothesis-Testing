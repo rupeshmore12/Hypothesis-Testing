{
 "cells": [
  {
   "cell_type": "code",
   "execution_count": 1,
   "id": "e6df4215-8461-475b-abef-950eaff11dec",
   "metadata": {},
   "outputs": [],
   "source": [
    "import numpy as np\n",
    "import statsmodels.stats.weightstats as stests"
   ]
  },
  {
   "cell_type": "code",
   "execution_count": 2,
   "id": "dce1c677-a957-4318-b9a0-c89d5b0b47f4",
   "metadata": {},
   "outputs": [],
   "source": [
    "# Generate some sample data for two groups\n",
    "np.random.seed(42)\n",
    "group1 = np.random.normal(loc=5, scale=2, size=100)\n",
    "group2 = np.random.normal(loc=7, scale=2, size=100)"
   ]
  },
  {
   "cell_type": "code",
   "execution_count": 3,
   "id": "5f6d7fda-108d-410b-91a8-a329654b26c9",
   "metadata": {},
   "outputs": [
    {
     "name": "stdout",
     "output_type": "stream",
     "text": [
      "Z-statistic: -8.551459943248734\n",
      "P-value: 1.2154125652765544e-17\n"
     ]
    }
   ],
   "source": [
    "# Perform two-sample Z-test\n",
    "z_stat, p_value = stests.ztest(group1, group2)\n",
    "\n",
    "# Print the results\n",
    "print(\"Z-statistic:\", z_stat)\n",
    "print(\"P-value:\", p_value)"
   ]
  },
  {
   "cell_type": "code",
   "execution_count": 4,
   "id": "c547ad46-977e-49a9-b32e-cf9d47e66cd1",
   "metadata": {},
   "outputs": [
    {
     "name": "stdout",
     "output_type": "stream",
     "text": [
      "Reject the null hypothesis that the means of the two groups are equal\n"
     ]
    }
   ],
   "source": [
    "# Interpret the results\n",
    "alpha = 0.05\n",
    "if p_value < alpha:\n",
    "    print(\"Reject the null hypothesis that the means of the two groups are equal\")\n",
    "else:\n",
    "    print(\"Fail to reject the null hypothesis that the means of the two groups are equal\")"
   ]
  }
 ],
 "metadata": {
  "kernelspec": {
   "display_name": "Python 3 (ipykernel)",
   "language": "python",
   "name": "python3"
  },
  "language_info": {
   "codemirror_mode": {
    "name": "ipython",
    "version": 3
   },
   "file_extension": ".py",
   "mimetype": "text/x-python",
   "name": "python",
   "nbconvert_exporter": "python",
   "pygments_lexer": "ipython3",
   "version": "3.11.7"
  }
 },
 "nbformat": 4,
 "nbformat_minor": 5
}
