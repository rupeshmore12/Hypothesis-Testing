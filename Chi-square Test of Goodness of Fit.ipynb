{
 "cells": [
  {
   "cell_type": "code",
   "execution_count": 10,
   "id": "23caf5df-5458-4158-8279-613d466ebffe",
   "metadata": {},
   "outputs": [],
   "source": [
    "import numpy as np\n",
    "from scipy.stats import chisquare"
   ]
  },
  {
   "cell_type": "code",
   "execution_count": 11,
   "id": "9913935b-77e7-4035-90bd-03f0ad234730",
   "metadata": {},
   "outputs": [],
   "source": [
    "# Observed frequencies\n",
    "observed = np.array([20, 30, 50])"
   ]
  },
  {
   "cell_type": "code",
   "execution_count": 12,
   "id": "3b5a1983-a771-45ca-a4f9-5cb03d4bcae3",
   "metadata": {},
   "outputs": [],
   "source": [
    "# Expected frequencies (assuming equal probabilities)\n",
    "expected = np.array([1/3, 1/3, 1/3]) * sum(observed)"
   ]
  },
  {
   "cell_type": "code",
   "execution_count": 13,
   "id": "94681f8b-d94c-4fab-9856-e1d6dbc8b7f7",
   "metadata": {},
   "outputs": [
    {
     "name": "stdout",
     "output_type": "stream",
     "text": [
      "Chi-square statistic: 14.000000000000002\n",
      "P-value: 0.0009118819655545153\n"
     ]
    }
   ],
   "source": [
    "# Perform Chi-square test of goodness of fit\n",
    "chi2_stat, p_value = chisquare(observed, f_exp=expected)\n",
    "\n",
    "# Print the results\n",
    "print(\"Chi-square statistic:\", chi2_stat)\n",
    "print(\"P-value:\", p_value)"
   ]
  }
 ],
 "metadata": {
  "kernelspec": {
   "display_name": "Python 3 (ipykernel)",
   "language": "python",
   "name": "python3"
  },
  "language_info": {
   "codemirror_mode": {
    "name": "ipython",
    "version": 3
   },
   "file_extension": ".py",
   "mimetype": "text/x-python",
   "name": "python",
   "nbconvert_exporter": "python",
   "pygments_lexer": "ipython3",
   "version": "3.11.7"
  }
 },
 "nbformat": 4,
 "nbformat_minor": 5
}
