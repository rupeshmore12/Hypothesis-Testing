{
 "cells": [
  {
   "cell_type": "code",
   "execution_count": 1,
   "id": "49a1ee33-9184-49f1-b865-ce84f89f7746",
   "metadata": {},
   "outputs": [],
   "source": [
    "import numpy as np\n",
    "import statsmodels.stats.weightstats as stests"
   ]
  },
  {
   "cell_type": "code",
   "execution_count": 2,
   "id": "70dd355d-b9e1-415b-b4bf-52f36c48da90",
   "metadata": {},
   "outputs": [],
   "source": [
    "# Generate some sample data\n",
    "np.random.seed(42)\n",
    "data = np.random.normal(loc=5, scale=2, size=100)"
   ]
  },
  {
   "cell_type": "code",
   "execution_count": 3,
   "id": "7c1a671c-1933-4e92-bcda-890b7248f11e",
   "metadata": {},
   "outputs": [
    {
     "name": "stdout",
     "output_type": "stream",
     "text": [
      "Z-statistic: -1.1434720057588494\n",
      "P-value: 0.25284267122636983\n"
     ]
    }
   ],
   "source": [
    "# Perform one-sample Z-test\n",
    "z_stat, p_value = stests.ztest(data, value=5)\n",
    "\n",
    "# Print the results\n",
    "print(\"Z-statistic:\", z_stat)\n",
    "print(\"P-value:\", p_value)"
   ]
  },
  {
   "cell_type": "code",
   "execution_count": 4,
   "id": "ce04b84c-b509-4cb8-8faa-5a841eff524c",
   "metadata": {},
   "outputs": [
    {
     "name": "stdout",
     "output_type": "stream",
     "text": [
      "Fail to reject the null hypothesis that the population mean is equal to 5\n"
     ]
    }
   ],
   "source": [
    "# Interpret the results\n",
    "alpha = 0.05\n",
    "if p_value < alpha:\n",
    "    print(\"Reject the null hypothesis that the population mean is equal to 5\")\n",
    "else:\n",
    "    print(\"Fail to reject the null hypothesis that the population mean is equal to 5\")"
   ]
  }
 ],
 "metadata": {
  "kernelspec": {
   "display_name": "Python 3 (ipykernel)",
   "language": "python",
   "name": "python3"
  },
  "language_info": {
   "codemirror_mode": {
    "name": "ipython",
    "version": 3
   },
   "file_extension": ".py",
   "mimetype": "text/x-python",
   "name": "python",
   "nbconvert_exporter": "python",
   "pygments_lexer": "ipython3",
   "version": "3.11.7"
  }
 },
 "nbformat": 4,
 "nbformat_minor": 5
}
