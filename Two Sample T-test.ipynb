{
 "cells": [
  {
   "cell_type": "code",
   "execution_count": 1,
   "id": "04dbfe69-54a9-4380-aa68-ffbf1f2158a8",
   "metadata": {},
   "outputs": [],
   "source": [
    "import numpy as np\n",
    "from scipy import stats"
   ]
  },
  {
   "cell_type": "code",
   "execution_count": 2,
   "id": "d7695b8e-2267-455a-861a-f8e07591697f",
   "metadata": {},
   "outputs": [],
   "source": [
    "# Generate some sample data for two groups\n",
    "np.random.seed(42)\n",
    "group1 = np.random.normal(loc=5, scale=2, size=100)\n",
    "group2 = np.random.normal(loc=7, scale=2, size=100)"
   ]
  },
  {
   "cell_type": "code",
   "execution_count": 3,
   "id": "b8347402-8b49-481e-ad04-cb72864ded68",
   "metadata": {},
   "outputs": [],
   "source": [
    "# Perform two-sample t-test\n",
    "t_stat, p_value = stats.ttest_ind(group1, group2)"
   ]
  },
  {
   "cell_type": "code",
   "execution_count": 4,
   "id": "a843b35b-a88e-41ac-b8c8-1cf57c18dcad",
   "metadata": {},
   "outputs": [
    {
     "name": "stdout",
     "output_type": "stream",
     "text": [
      "T-statistic: -8.551459943248734\n",
      "P-value: 3.292961428703629e-15\n"
     ]
    }
   ],
   "source": [
    "# Print the results\n",
    "print(\"T-statistic:\", t_stat)\n",
    "print(\"P-value:\", p_value)"
   ]
  },
  {
   "cell_type": "code",
   "execution_count": 5,
   "id": "1cc2628e-09c4-4b57-8af9-a1a70f40c3d2",
   "metadata": {},
   "outputs": [
    {
     "name": "stdout",
     "output_type": "stream",
     "text": [
      "Reject the null hypothesis that the means of the two groups are equal\n"
     ]
    }
   ],
   "source": [
    "# Interpret the results\n",
    "alpha = 0.05\n",
    "if p_value < alpha:\n",
    "    print(\"Reject the null hypothesis that the means of the two groups are equal\")\n",
    "else:\n",
    "    print(\"Fail to reject the null hypothesis that the means of the two groups are equal\")"
   ]
  }
 ],
 "metadata": {
  "kernelspec": {
   "display_name": "Python 3 (ipykernel)",
   "language": "python",
   "name": "python3"
  },
  "language_info": {
   "codemirror_mode": {
    "name": "ipython",
    "version": 3
   },
   "file_extension": ".py",
   "mimetype": "text/x-python",
   "name": "python",
   "nbconvert_exporter": "python",
   "pygments_lexer": "ipython3",
   "version": "3.11.7"
  }
 },
 "nbformat": 4,
 "nbformat_minor": 5
}
